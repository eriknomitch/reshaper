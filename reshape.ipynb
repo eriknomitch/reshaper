{
 "cells": [
  {
   "cell_type": "markdown",
   "id": "db114b85-81be-4e9f-ab96-182dd98bd152",
   "metadata": {},
   "source": [
    "# Reshaper\n",
    "\n",
    "Few shot data reshaper via LLMs (GPT-3)"
   ]
  },
  {
   "cell_type": "markdown",
   "id": "3b439869-5266-4418-a35c-82bcf584e2db",
   "metadata": {},
   "source": [
    "## Dependencies"
   ]
  },
  {
   "cell_type": "code",
   "execution_count": null,
   "id": "78970816-541a-4d2f-83e9-a10840e1fd71",
   "metadata": {},
   "outputs": [],
   "source": [
    "import os\n",
    "\n",
    "if os.path.basename(os.getcwd()) != \"reshaper\":\n",
    "    raise Exception(\"You are not in the reshaper directory\")"
   ]
  },
  {
   "cell_type": "code",
   "execution_count": null,
   "id": "78d09786-d07e-4edd-97e5-5f9aed8debb4",
   "metadata": {
    "tags": []
   },
   "outputs": [],
   "source": [
    "%%bash\n",
    "pip install -r requirements.txt > /dev/null\n",
    "#jupyter labextension install ipysheet"
   ]
  },
  {
   "cell_type": "markdown",
   "id": "cb525be0-2225-4082-a5c5-6b9a030fecd8",
   "metadata": {},
   "source": [
    "## Config"
   ]
  },
  {
   "cell_type": "code",
   "execution_count": null,
   "id": "509bf144-7e13-4b4f-917d-fa6921d9e9e2",
   "metadata": {},
   "outputs": [],
   "source": [
    "from dotenv import dotenv_values\n",
    "\n",
    "config = dotenv_values(\".env\")"
   ]
  },
  {
   "cell_type": "markdown",
   "id": "0c9da47f-5eca-4ad2-bbf3-81fa7756ea9b",
   "metadata": {},
   "source": [
    "## Utility"
   ]
  },
  {
   "cell_type": "code",
   "execution_count": null,
   "id": "d77c0885-3db7-4bc2-9f68-dcf0414fe1a1",
   "metadata": {},
   "outputs": [],
   "source": [
    "import yaml\n",
    "import io\n",
    "from box import Box\n",
    "\n",
    "def read_reshaper_file(path):\n",
    "    with open(path, \"r\") as stream:\n",
    "        try:\n",
    "            return Box(yaml.safe_load(stream))\n",
    "        except yaml.YAMLError as exc:\n",
    "            print(exc)"
   ]
  },
  {
   "cell_type": "markdown",
   "id": "725a65a1-77ba-4b80-a2d9-8ddd61a3d2c2",
   "metadata": {},
   "source": [
    "## Setup"
   ]
  },
  {
   "cell_type": "code",
   "execution_count": null,
   "id": "cab9f766-9428-4c5b-ac86-c4e328decd80",
   "metadata": {},
   "outputs": [],
   "source": [
    "from gpt import GPT, Example, set_openai_key\n",
    "\n",
    "set_openai_key(config['OPENAI_KEY'])"
   ]
  },
  {
   "cell_type": "markdown",
   "id": "ccc042fa-6b77-4d44-b472-81d393300a94",
   "metadata": {},
   "source": [
    "## Load Reshaper"
   ]
  },
  {
   "cell_type": "code",
   "execution_count": null,
   "id": "b9856c14-b0dc-41ff-9786-83e917e2bf3c",
   "metadata": {},
   "outputs": [],
   "source": [
    "reshaper = read_reshaper_file(\"data/dall-e_prompts.yaml\")"
   ]
  },
  {
   "cell_type": "markdown",
   "id": "83399005-a04b-4e41-bc1d-d79518fed2cc",
   "metadata": {},
   "source": [
    "## Model"
   ]
  },
  {
   "cell_type": "code",
   "execution_count": null,
   "id": "65ff0a0a-06cd-42f3-bee1-9a1269d48375",
   "metadata": {
    "tags": []
   },
   "outputs": [],
   "source": [
    "gpt = GPT(\n",
    "    engine=reshaper.config.gpt.model,\n",
    "    temperature=reshaper.config.gpt.temperature,\n",
    "    max_tokens=reshaper.config.gpt.max_tokens\n",
    ")"
   ]
  },
  {
   "cell_type": "markdown",
   "id": "12bd60ca-25ee-4adf-a894-8b48bba31ef8",
   "metadata": {},
   "source": [
    "## Examples"
   ]
  },
  {
   "cell_type": "code",
   "execution_count": null,
   "id": "0984321e-63dc-4f63-a7b3-aaf825f945f0",
   "metadata": {},
   "outputs": [],
   "source": [
    "gpt.examples = {}\n",
    "\n",
    "for example in reshaper.examples:\n",
    "    attrs = example.attributes if hasattr(example, 'attributes') else {}\n",
    "    gpt.add_example(Example(example.input, example.output, attrs))"
   ]
  },
  {
   "cell_type": "code",
   "execution_count": null,
   "id": "32926922-aef7-4131-8075-e850189d92bf",
   "metadata": {},
   "outputs": [],
   "source": [
    "gpt.get_all_examples()"
   ]
  },
  {
   "cell_type": "markdown",
   "id": "3cc50e7a-2ed1-4c5c-85da-39b25bfc12ae",
   "metadata": {},
   "source": [
    "## Reshape"
   ]
  },
  {
   "cell_type": "code",
   "execution_count": null,
   "id": "539a383d-6142-4b69-9671-70fcbb144706",
   "metadata": {
    "tags": []
   },
   "outputs": [],
   "source": [
    "inputs = [\n",
    "    \"3d cute blue rabbit in the snow\",\n",
    "    \"cat flying into window\",\n",
    "    \"a chinchilla doing the cha-cha\"\n",
    "]"
   ]
  },
  {
   "cell_type": "code",
   "execution_count": null,
   "id": "5dd29c40-432a-4d29-9ff1-4927242633bc",
   "metadata": {},
   "outputs": [],
   "source": [
    "completions = gpt.reshape_list(inputs)"
   ]
  },
  {
   "cell_type": "code",
   "execution_count": null,
   "id": "4bd217d2-55e1-4c46-b6fe-7e68d1648f3a",
   "metadata": {},
   "outputs": [],
   "source": [
    "for index, completion in enumerate(completions):\n",
    "    print(\"> \" + inputs[index])\n",
    "    print(completion)\n",
    "    print()\n",
    "    "
   ]
  }
 ],
 "metadata": {
  "kernelspec": {
   "display_name": "Python 3 (ipykernel)",
   "language": "python",
   "name": "python3"
  },
  "language_info": {
   "codemirror_mode": {
    "name": "ipython",
    "version": 3
   },
   "file_extension": ".py",
   "mimetype": "text/x-python",
   "name": "python",
   "nbconvert_exporter": "python",
   "pygments_lexer": "ipython3",
   "version": "3.10.2"
  }
 },
 "nbformat": 4,
 "nbformat_minor": 5
}
